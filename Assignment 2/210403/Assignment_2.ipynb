{
 "cells": [
  {
   "cell_type": "code",
   "execution_count": 1,
   "id": "b0798e5f",
   "metadata": {},
   "outputs": [],
   "source": [
    "import yfinance as yf\n",
    "import pandas as pd\n",
    "import numpy as np\n",
    "import matplotlib.pyplot as plt\n",
    "import seaborn as sns\n",
    "import talib"
   ]
  },
  {
   "cell_type": "code",
   "execution_count": 2,
   "id": "6f713d8d",
   "metadata": {},
   "outputs": [
    {
     "name": "stdout",
     "output_type": "stream",
     "text": [
      "[*********************100%***********************]  1 of 1 completed\n",
      "[*********************100%***********************]  1 of 1 completed\n"
     ]
    }
   ],
   "source": [
    "data_NASDAQ  = yf.download('^IXIC', start='2010-01-01', end='2023-05-01')\n",
    "data_NSE = yf.download('^NSEI', start='2010-01-01', end='2023-05-01')"
   ]
  },
  {
   "cell_type": "markdown",
   "id": "36ef4d01",
   "metadata": {},
   "source": [
    "<h3>Calculating Correlation Coefficient</h3>"
   ]
  },
  {
   "cell_type": "code",
   "execution_count": 5,
   "id": "75da7e6a",
   "metadata": {},
   "outputs": [
    {
     "name": "stdout",
     "output_type": "stream",
     "text": [
      "Correlation Coefficient between NASDAQ and NSE is:  0.9513138758576779\n"
     ]
    }
   ],
   "source": [
    "df = pd.DataFrame()\n",
    "df=pd.concat([data_NASDAQ['Adj Close'],data_NSE['Adj Close']],axis=1)\n",
    "df.columns=['NASDAQ','NSE']\n",
    "df.dropna(inplace=True)\n",
    "corrcoeff = df['NASDAQ'].corr(df['NSE'])\n",
    "print(\"Correlation Coefficient between NASDAQ and NSE is: \",corrcoeff)"
   ]
  },
  {
   "cell_type": "markdown",
   "id": "1cd46464",
   "metadata": {},
   "source": [
    "The indidices are positively correlated and correlation is strong since the coefficient is high."
   ]
  },
  {
   "cell_type": "markdown",
   "id": "84526edb",
   "metadata": {},
   "source": [
    "<h3>Lead Lag Relationship</h3>"
   ]
  },
  {
   "cell_type": "code",
   "execution_count": 20,
   "id": "39fec92f",
   "metadata": {},
   "outputs": [],
   "source": [
    "lags = np.arange(-200,200,1)\n",
    "lags\n",
    "correlations = []\n",
    "for lag in lags :\n",
    "    shifted_nasdaq = df['NASDAQ'].shift(lag)\n",
    "    correlation = df['NSE'].corr(shifted_nasdaq)\n",
    "    correlations.append(correlation)"
   ]
  },
  {
   "cell_type": "code",
   "execution_count": 21,
   "id": "092c5e69",
   "metadata": {},
   "outputs": [
    {
     "data": {
      "image/png": "[encoded data removed]",
      "text/plain": [
       "<Figure size 500x250 with 1 Axes>"
      ]
     },
     "metadata": {},
     "output_type": "display_data"
    }
   ],
   "source": [
    "plt.figure(figsize=(5,2.5))\n",
    "plt.plot(lags,correlations)\n",
    "plt.title('Correlation between NASDAQ and NSE')\n",
    "plt.xlabel('Lags')\n",
    "plt.ylabel('Correlation')\n",
    "plt.show()"
   ]
  },
  {
   "cell_type": "code",
   "execution_count": 22,
   "id": "c118faef",
   "metadata": {},
   "outputs": [
    {
     "name": "stdout",
     "output_type": "stream",
     "text": [
      "Best lag is:  148\n",
      "Max correlation is:  0.9677174313611793\n"
     ]
    }
   ],
   "source": [
    "max_correlation = max(correlations)\n",
    "best_lag = lags[correlations.index(max_correlation)]\n",
    "print(\"Best lag is: \",best_lag)\n",
    "print(\"Max correlation is: \",max_correlation)"
   ]
  },
  {
   "cell_type": "markdown",
   "id": "c0069a3b",
   "metadata": {},
   "source": [
    "The best lag is 148. This means, when NSE was 148 days behind NASDAQ, the correlation between them was maximum. <br>\n",
    "Therefore, NSE can act as a leading indicator for the movements of NASDAQ index.<br>\n",
    "Hence we would choose NSE as the index for parameter optimization.<br>"
   ]
  },
  {
   "cell_type": "markdown",
   "id": "21513bce",
   "metadata": {},
   "source": [
    "<h3>Indicator Coding</h3>"
   ]
  },
  {
   "cell_type": "markdown",
   "id": "6cd8bb2d",
   "metadata": {},
   "source": [
    "<h4>1) Keltner Channel</h4>"
   ]
  },
  {
   "cell_type": "code",
   "execution_count": 30,
   "id": "5f374235",
   "metadata": {},
   "outputs": [],
   "source": [
    "def keltner_channel(data,atr_lookback=10,kc_lookback=20,multiplier=2):\n",
    "    high = data['High']\n",
    "    low = data['Low']\n",
    "    close = data['Adj Close']\n",
    "    tr1 = pd.DataFrame(high - low)\n",
    "    tr2 = pd.DataFrame(abs(high - close.shift()))\n",
    "    tr3 = pd.DataFrame(abs(low - close.shift()))\n",
    "    frames = [tr1, tr2, tr3]\n",
    "    tr = pd.concat(frames, axis = 1, join = 'inner').max(axis = 1)\n",
    "    atr = tr.ewm(alpha = 1/atr_lookback).mean()\n",
    "    \n",
    "    kc_middle = close.ewm(kc_lookback).mean()\n",
    "    kc_upper = close.ewm(kc_lookback).mean() + multiplier * atr\n",
    "    kc_lower = close.ewm(kc_lookback).mean() - multiplier * atr\n",
    "    \n",
    "    return kc_middle, kc_upper, kc_lower\n"
   ]
  },
  {
   "cell_type": "markdown",
   "id": "748a3429",
   "metadata": {},
   "source": [
    "<h4>2) Bollinger Bands</h4>"
   ]
  },
  {
   "cell_type": "code",
   "execution_count": 31,
   "id": "f68b73a2",
   "metadata": {},
   "outputs": [],
   "source": [
    "def bollinger_bands(data,lookback=20,multiplier=2):\n",
    "    sma = data['Adj Close'].rolling(window=lookback).mean()\n",
    "    high = data['High']\n",
    "    low = data['Low']\n",
    "    close = data['Adj Close']\n",
    "    tp = pd.DataFrame((high+low+close)/3)\n",
    "    sigma = tp.rolling(window=lookback).std()\n",
    "    upper_band = sma + multiplier*sigma\n",
    "    lower_band = sma - multiplier*sigma\n",
    "    return upper_band,lower_band"
   ]
  },
  {
   "cell_type": "markdown",
   "id": "5f650c1a",
   "metadata": {},
   "source": [
    "<h4>3) MACD Indicator</h4>"
   ]
  },
  {
   "cell_type": "code",
   "execution_count": 32,
   "id": "31afc4ff",
   "metadata": {},
   "outputs": [],
   "source": [
    "def macd(data,lower_window = 12,upper_window = 26,signal_window = 9):\n",
    "    ema_12 = data['Adj Close'].ewm(span = lower_window,adjust = False).mean()\n",
    "    ema_26 = data['Adj Close'].ewm(span = upper_window,adjust = False).mean()\n",
    "    macd = ema_12 - ema_26\n",
    "    signal_line = macd.ewm(span = signal_window,adjust = False).mean()\n",
    "    return macd,signal_line"
   ]
  },
  {
   "cell_type": "code",
   "execution_count": null,
   "id": "0c4e474d",
   "metadata": {},
   "outputs": [],
   "source": []
  }
 ],
 "metadata": {
  "kernelspec": {
   "display_name": "Python 3 (ipykernel)",
   "language": "python",
   "name": "python3"
  },
  "language_info": {
   "codemirror_mode": {
    "name": "ipython",
    "version": 3
   },
   "file_extension": ".py",
   "mimetype": "text/x-python",
   "name": "python",
   "nbconvert_exporter": "python",
   "pygments_lexer": "ipython3",
   "version": "3.10.9"
  }
 },
 "nbformat": 4,
 "nbformat_minor": 5
}
